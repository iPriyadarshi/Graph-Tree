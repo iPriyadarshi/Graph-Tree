{
 "cells": [
  {
   "cell_type": "markdown",
   "id": "66e8f754",
   "metadata": {},
   "source": [
    "# 📚 **Graphs & Trees: A Deep Dive into Data Structures**\n",
    "\n",
    "### 🔍 Unlocking the Power of Connectivity and Hierarchical Structures\n",
    "\n",
    "---\n",
    "\n",
    "## 🖋 **Author Details**\n",
    "\n",
    "**👤 Name:** Priyadarshi Kumar\n",
    "\n",
    "**📍 Location:** Lucknow, India\n",
    "\n",
    "**🎓 Expertise:** Data Structures, Algorithms\n",
    "\n",
    "**🌐 LinkedIn:** [Priyadarshi Kumar](https://www.linkedin.com/in/iPriyadarshi/)\n",
    "\n",
    "**🌐 Github:** [iPriyadarshi](https://www.github.com/iPriyadarshi/)\n",
    "\n",
    "---\n",
    "\n",
    "## 📝 **Notebook Overview**\n",
    "\n",
    "Welcome to this comprehensive exploration of **Graphs & Trees**! 🌟  \n",
    "This notebook provides:\n",
    "\n",
    "- 📊 Detailed explanations of graph and tree concepts, their representations, and properties\n",
    "- 🛠 Implementation of three main graph representations: Adjacency List, Edge List, and Adjacency Matrix\n",
    "- 🔎 Practical functions to analyze graph properties including:\n",
    "  - Calculating vertex degrees\n",
    "  - Converting between different graph representations\n",
    "  - Checking adjacency, completeness, and connectivity\n",
    "  - Identifying walks, trails, and paths\n",
    "- 🌳 Tree-specific operations including:\n",
    "  - Spanning tree generation\n",
    "  - Leaf node counting\n",
    "  - Binary tree verification\n",
    "  - Height and depth calculations\n",
    "\n",
    "Each concept is accompanied by Python implementations and practical examples.\n",
    "\n",
    "By the end of this notebook, you'll not only grasp the **concepts** but also gain **hands-on coding experience** that strengthens your understanding.\n",
    "\n",
    "<div align=\"center\" style=\"padding: 15px; border-radius: 8px;\">\n",
    "  \n",
    "## 🚀 Begin Your Journey\n",
    "\n",
    "_\"The art of programming is the art of organizing complexity.\"_\n",
    "— Edsger W. Dijkstra\n",
    "\n",
    "</div>\n",
    "\n",
    "---\n",
    "\n",
    "🚀 **Let's get started! Dive into the world of Graphs & Trees now!** 🚀\n"
   ]
  },
  {
   "cell_type": "markdown",
   "id": "3915c795",
   "metadata": {},
   "source": [
    "Graphs and trees are fundamental data structures in computer science used to model relationships between objects.\n"
   ]
  },
  {
   "cell_type": "markdown",
   "id": "338ee017",
   "metadata": {},
   "source": [
    "**Graph:**\n",
    "\n",
    "- A graph is a non-linear data structure consisting of a set of vertices (nodes) and a set of edges that connect these vertices.\n",
    "- Formally, a graph G is defined as G = (V, E), where V is the set of vertices and E is the set of edges.\n",
    "- Edges can be directed (representing a one-way relationship) or undirected (representing a two-way relationship).\n",
    "- Graphs can be used to represent various real-world scenarios, such as social networks, road networks, and computer networks.\n",
    "- Types of graphs include: directed graphs, undirected graphs, weighted graphs, and unweighted graphs.\n"
   ]
  },
  {
   "cell_type": "markdown",
   "id": "0a6f832e",
   "metadata": {},
   "source": [
    "Graphs can be represented in various ways depending on the use case and the type of problem being solved. Here are the primary ways to represent a graph:\n",
    "\n",
    "1. **Adjacency List**\n",
    "2. **Edge List**\n",
    "3. **Adjacency Matrix**\n",
    "\n",
    "### **1. Adjacency List**\n",
    "\n",
    "An adjacency list represents a graph as a dictionary or a list of lists, where each vertex (node) stores a list of adjacent vertices it connects to. This representation is efficient in terms of memory and is ideal for sparse graphs.\n",
    "\n",
    "#### **Example of an Adjacency List:**\n",
    "\n",
    "Consider the graph with vertices **1, 2, 3, 4** and edges: **(1,2), (1,3), (2,3), (3,4)**.\n",
    "\n",
    "```python\n",
    "graph = {\n",
    "    1: [2, 3],\n",
    "    2: [1, 3],\n",
    "    3: [1, 2, 4],\n",
    "    4: [3]\n",
    "}\n",
    "```\n",
    "\n",
    "Each key represents a node, and its corresponding list contains adjacent nodes.\n",
    "\n",
    "#### **Advantages:**\n",
    "\n",
    "- Uses less memory for sparse graphs.\n",
    "- Easy to iterate through neighbors of a node.\n",
    "- Efficient for depth-first search (DFS) and breadth-first search (BFS).\n",
    "\n",
    "#### **Disadvantages:**\n",
    "\n",
    "- Checking if an edge exists between two specific nodes takes more time compared to an adjacency matrix.\n",
    "\n",
    "---\n",
    "\n",
    "### **2. Edge List**\n",
    "\n",
    "An edge list stores a graph as a collection of pairs (or tuples), where each pair represents an edge between two vertices. This representation is useful for storing and processing edge-based graph algorithms.\n",
    "\n",
    "#### **Example of an Edge List:**\n",
    "\n",
    "For the same graph:\n",
    "\n",
    "```python\n",
    "edges = [\n",
    "    (1, 2),\n",
    "    (1, 3),\n",
    "    (2, 3),\n",
    "    (3, 4)\n",
    "]\n",
    "```\n",
    "\n",
    "Each tuple represents an edge between two nodes.\n",
    "\n",
    "#### **Advantages:**\n",
    "\n",
    "- Simple to store and process edges directly.\n",
    "- Suitable for algorithms that focus primarily on edges.\n",
    "\n",
    "#### **Disadvantages:**\n",
    "\n",
    "- Difficult to find all adjacent vertices of a given node quickly.\n",
    "- Not efficient for checking if two nodes are connected.\n",
    "\n",
    "---\n",
    "\n",
    "### **3. Adjacency Matrix**\n",
    "\n",
    "An adjacency matrix represents a graph using a 2D array (matrix), where each row and column correspond to a vertex, and the cell values indicate whether an edge exists between them.\n",
    "\n",
    "#### **Example of an Adjacency Matrix:**\n",
    "\n",
    "For the same graph:\n",
    "\n",
    "```\n",
    "  1  2  3  4\n",
    "1 0  1  1  0\n",
    "2 1  0  1  0\n",
    "3 1  1  0  1\n",
    "4 0  0  1  0\n",
    "```\n",
    "\n",
    "Or in Python:\n",
    "\n",
    "```python\n",
    "adj_matrix = [\n",
    "    [0, 1, 1, 0],  # Node 1 connections\n",
    "    [1, 0, 1, 0],  # Node 2 connections\n",
    "    [1, 1, 0, 1],  # Node 3 connections\n",
    "    [0, 0, 1, 0]   # Node 4 connections\n",
    "]\n",
    "```\n",
    "\n",
    "A **1** in `adj_matrix[i][j]` means an edge exists between node `i` and node `j`.\n",
    "\n",
    "#### **Advantages:**\n",
    "\n",
    "- Quick edge lookups (checking if two nodes are connected).\n",
    "- Efficient for dense graphs.\n",
    "\n",
    "#### **Disadvantages:**\n",
    "\n",
    "- Uses **O(V²)** space, which is inefficient for sparse graphs.\n",
    "- Iterating through adjacent nodes is slower compared to an adjacency list.\n",
    "\n",
    "---\n",
    "\n",
    "### **Choosing the Best Representation**\n",
    "\n",
    "- **Adjacency List** → Best for sparse graphs and traversal algorithms.\n",
    "- **Edge List** → Best for edge-based graph processing.\n",
    "- **Adjacency Matrix** → Best for dense graphs and quick edge lookups.\n"
   ]
  },
  {
   "cell_type": "code",
   "execution_count": 1,
   "id": "17f94910",
   "metadata": {},
   "outputs": [],
   "source": [
    "# Manually write the 3 ways of representing graphs in python.\n",
    "\n",
    "# =============== Adjacency List ===============\n",
    "\n",
    "graph_dict = {\n",
    "    \"A\": [\"B\", \"E\", \"F\"],\n",
    "    \"B\": [\"A\", \"C\", \"E\"],\n",
    "    \"C\": [\"B\", \"D\"],\n",
    "    \"D\": [\"C\", \"E\"],\n",
    "    \"E\": [\"A\", \"B\", \"D\"],\n",
    "    \"F\": [\"A\"],\n",
    "}\n",
    "\n",
    "# =============== Adjacency Matrix ===============\n",
    "\n",
    "adjacency_matrix = [\n",
    "    [0, 1, 0, 0, 1, 1],\n",
    "    [1, 0, 1, 0, 1, 0],\n",
    "    [0, 1, 0, 1, 0, 0],\n",
    "    [0, 0, 1, 0, 1, 0],\n",
    "    [1, 1, 0, 1, 0, 0],\n",
    "    [1, 0, 0, 0, 0, 0],\n",
    "]\n",
    "node_names = [\"A\", \"B\", \"C\", \"D\", \"E\", \"F\"]\n",
    "\n",
    "# =============== Edge List ===============\n",
    "\n",
    "edge_list = [\n",
    "    (\"A\", \"B\"),\n",
    "    (\"A\", \"E\"),\n",
    "    (\"A\", \"F\"),\n",
    "    (\"B\", \"A\"),\n",
    "    (\"B\", \"C\"),\n",
    "    (\"B\", \"E\"),\n",
    "    (\"C\", \"B\"),\n",
    "    (\"C\", \"D\"),\n",
    "    (\"D\", \"C\"),\n",
    "    (\"D\", \"E\"),\n",
    "    (\"E\", \"A\"),\n",
    "    (\"E\", \"B\"),\n",
    "    (\"E\", \"D\"),\n",
    "    (\"F\", \"A\"),\n",
    "]\n"
   ]
  },
  {
   "cell_type": "code",
   "execution_count": 2,
   "id": "0b58495f",
   "metadata": {},
   "outputs": [
    {
     "name": "stdout",
     "output_type": "stream",
     "text": [
      "Degree of each vertex: {'A': 2, 'B': 3, 'C': 2, 'D': 1, 'E': 2, 'F': 2}\n",
      "Sorted degree of each vertex: {'D': 1, 'A': 2, 'C': 2, 'E': 2, 'F': 2, 'B': 3}\n"
     ]
    }
   ],
   "source": [
    "# 1. Write a code to find the degree of each vertex, and store it in a dictionary. Sort the keys of the dictionary by the degree stored in the values.\n",
    "\n",
    "\n",
    "# Define the graph as a dictionary where keys are vertices and values are lists of adjacent vertices.\n",
    "graph = {\n",
    "    \"A\": [\"B\", \"C\"],\n",
    "    \"B\": [\"A\", \"D\", \"E\"],\n",
    "    \"C\": [\"A\", \"F\"],\n",
    "    \"D\": [\"B\"],\n",
    "    \"E\": [\"B\", \"F\"],\n",
    "    \"F\": [\"C\", \"E\"],\n",
    "}\n",
    "\n",
    "\n",
    "# Function to calculate the degree of each vertex in the graph.\n",
    "def degree_of_vertices(graph):\n",
    "    # Initialize an empty dictionary to store the degree of each vertex.\n",
    "    degree = {}\n",
    "    # Iterate through each vertex in the graph.\n",
    "    for vertex in graph:\n",
    "        # The degree of a vertex is the number of vertices it is connected to,\n",
    "        # which is the length of the list of adjacent vertices.\n",
    "        degree[vertex] = len(graph[vertex])\n",
    "    # Return the dictionary containing the degree of each vertex.\n",
    "    return degree\n",
    "\n",
    "\n",
    "# Calculate the degree of each vertex using the degree_of_vertices function.\n",
    "degree = degree_of_vertices(graph)\n",
    "\n",
    "# Sort the vertices by their degree.\n",
    "# Create a list of tuples (vertex, degree) from the degree dictionary.\n",
    "degree_items = list(degree.items())\n",
    "\n",
    "\n",
    "# Sort the list of tuples based on the degree (the second element of each tuple).\n",
    "def get_degree(item):\n",
    "    return item[1]\n",
    "\n",
    "\n",
    "sorted_degree_items = sorted(degree_items, key=get_degree)\n",
    "\n",
    "# Convert the sorted list of tuples back into a dictionary.\n",
    "sorted_degree = dict(sorted_degree_items)\n",
    "\n",
    "\n",
    "# Print the degree of each vertex.\n",
    "print(\"Degree of each vertex:\", degree)\n",
    "# Print the sorted degree of each vertex.\n",
    "print(\"Sorted degree of each vertex:\", sorted_degree)\n"
   ]
  },
  {
   "cell_type": "code",
   "execution_count": 3,
   "id": "d413c151",
   "metadata": {},
   "outputs": [],
   "source": [
    "# if type of representation not known\n",
    "\n",
    "\n",
    "def degree_of_node(inp_value, node_names=None):\n",
    "    result = {}\n",
    "\n",
    "    if type(inp_value) == dict:\n",
    "        for key, value in graph_dict.items():\n",
    "            result[key] = len(value)\n",
    "        return result\n",
    "\n",
    "    if type(inp_value) == list:\n",
    "        if type(inp_value[0]) == list:\n",
    "            for i in range(len(node_names)):\n",
    "                result[node_names[i]] = sum(inp_value[i])\n",
    "            return result\n",
    "\n",
    "        if type(inp_value[0]) == tuple:\n",
    "            n = len(edge_list)\n",
    "            keys = []\n",
    "            for i in range(n):\n",
    "                for key in inp_value[i][0]:\n",
    "                    keys.append(key)\n",
    "            keys = list(set(keys))\n",
    "\n",
    "            for key in keys:\n",
    "                result[key] = 0\n",
    "                for i in range(n):\n",
    "                    if edge_list[i][0] == key:\n",
    "                        result[key] += 1\n",
    "            return result\n"
   ]
  },
  {
   "cell_type": "code",
   "execution_count": 4,
   "id": "c8a21a70",
   "metadata": {},
   "outputs": [],
   "source": [
    "# 2. Write a code to inter-convert the 3 graph representations we have learnt.\n",
    "\n",
    "\n",
    "# Function to convert a graph represented as a dictionary to an adjacency matrix.\n",
    "def gr_dict_2_adj_mat(graph_dict):\n",
    "    # Get a list of node names from the graph dictionary.\n",
    "    node_names = list(graph_dict.keys())\n",
    "    # Determine the size of the adjacency matrix based on the number of nodes.\n",
    "    size = len(node_names)\n",
    "\n",
    "    # Initialize the adjacency matrix with all zeros.\n",
    "    adjacency_matrix = [[0] * size for _ in range(size)]\n",
    "\n",
    "    # Iterate through each node in the graph dictionary.\n",
    "    for i, node in enumerate(node_names):\n",
    "        # Iterate through each neighbor of the current node.\n",
    "        for neighbor in graph_dict[node]:\n",
    "            # Find the index of the neighbor in the list of node names.\n",
    "            j = node_names.index(neighbor)\n",
    "            # Set the corresponding entry in the adjacency matrix to 1, indicating an edge.\n",
    "            adjacency_matrix[i][j] = 1\n",
    "\n",
    "    # Return the resulting adjacency matrix.\n",
    "    return adjacency_matrix\n",
    "\n",
    "\n",
    "# Function to convert a graph represented as a dictionary to an edge list.\n",
    "def gr_dict_2_edge_list(graph_dict):\n",
    "    # Initialize an empty list to store the edges.\n",
    "    edge_list = []\n",
    "    # Iterate through each node in the graph dictionary.\n",
    "    for node in graph_dict:\n",
    "        # Iterate through each neighbor of the current node.\n",
    "        for neighbor in graph_dict[node]:\n",
    "            # Append a tuple representing the edge to the edge list.\n",
    "            edge_list.append((node, neighbor))\n",
    "    # Return the resulting edge list.\n",
    "    return edge_list\n",
    "\n",
    "\n",
    "# Function to convert a graph represented as an adjacency matrix to a dictionary.\n",
    "def adj_mat_2_gr_dict(adjacency_matrix):\n",
    "    # Initialize an empty dictionary to store the graph.\n",
    "    graph_dict = {}\n",
    "    # Define a list of node names corresponding to the indices in the adjacency matrix.\n",
    "    node_names = [\"A\", \"B\", \"C\", \"D\", \"E\", \"F\"]\n",
    "\n",
    "    # Iterate through each row of the adjacency matrix.\n",
    "    for i in range(len(adjacency_matrix)):\n",
    "        # Initialize an empty list to store the neighbors of the current node.\n",
    "        graph_dict[node_names[i]] = []\n",
    "        # Iterate through each column of the adjacency matrix.\n",
    "        for j in range(len(adjacency_matrix[i])):\n",
    "            # If the entry in the adjacency matrix is 1, it indicates an edge.\n",
    "            if adjacency_matrix[i][j] == 1:\n",
    "                # Append the corresponding node name to the list of neighbors.\n",
    "                graph_dict[node_names[i]].append(node_names[j])\n",
    "\n",
    "    # Return the resulting graph dictionary.\n",
    "    return graph_dict\n",
    "\n",
    "\n",
    "# Function to convert a graph represented as an adjacency matrix to an edge list.\n",
    "def adj_mat_2_edge_list(adjacency_matrix):\n",
    "    # Initialize an empty list to store the edges.\n",
    "    edge_list = []\n",
    "    # Define a list of node names corresponding to the indices in the adjacency matrix.\n",
    "    node_names = [\"A\", \"B\", \"C\", \"D\", \"E\", \"F\"]\n",
    "\n",
    "    # Iterate through each row of the adjacency matrix.\n",
    "    for i in range(len(adjacency_matrix)):\n",
    "        # Iterate through each column of the adjacency matrix.\n",
    "        for j in range(len(adjacency_matrix[i])):\n",
    "            # If the entry in the adjacency matrix is 1, it indicates an edge.\n",
    "            if adjacency_matrix[i][j] == 1:\n",
    "                # Append a tuple representing the edge to the edge list.\n",
    "                edge_list.append((node_names[i], node_names[j]))\n",
    "\n",
    "    # Return the resulting edge list.\n",
    "    return edge_list\n",
    "\n",
    "\n",
    "# Function to convert a graph represented as an edge list to a dictionary.\n",
    "def edge_list_2_gr_dict(edge_list):\n",
    "    # Initialize an empty dictionary to store the graph.\n",
    "    result = {}\n",
    "\n",
    "    # Iterate through each edge in the edge list.\n",
    "    for edge in edge_list:\n",
    "        # If the starting node of the edge is not already in the dictionary, add it.\n",
    "        if edge[0] not in result:\n",
    "            result[edge[0]] = []\n",
    "        # Append the ending node of the edge to the list of neighbors of the starting node.\n",
    "        result[edge[0]].append(edge[1])\n",
    "\n",
    "    # Return the resulting graph dictionary.\n",
    "    return result\n",
    "\n",
    "\n",
    "# Function to convert a graph represented as an edge list to an adjacency matrix.\n",
    "def edge_list_2_adj_mat(edge_list):\n",
    "    # Extract all unique node names from the edge list.\n",
    "    keys = []\n",
    "    for i in range(len(edge_list)):\n",
    "        keys.append(edge_list[i][0])\n",
    "    keys = list(set(keys))\n",
    "    # Determine the size of the adjacency matrix based on the number of unique nodes.\n",
    "    size = len(keys)\n",
    "    # Initialize the adjacency matrix with all zeros.\n",
    "    adjacency_matrix = [[0] * size for _ in range(size)]\n",
    "\n",
    "    # Iterate through each edge in the edge list.\n",
    "    for edge in edge_list:\n",
    "        # Find the indices of the starting and ending nodes in the list of unique nodes.\n",
    "        i = keys.index(edge[0])\n",
    "        j = keys.index(edge[1])\n",
    "        # Set the corresponding entry in the adjacency matrix to 1, indicating an edge.\n",
    "        adjacency_matrix[i][j] = 1\n",
    "\n",
    "    # Return the resulting adjacency matrix.\n",
    "    return adjacency_matrix\n"
   ]
  },
  {
   "cell_type": "code",
   "execution_count": 5,
   "id": "25aaac85",
   "metadata": {},
   "outputs": [
    {
     "name": "stdout",
     "output_type": "stream",
     "text": [
      "[[0, 1, 0, 0, 1, 1], [1, 0, 1, 0, 1, 0], [0, 1, 0, 1, 0, 0], [0, 0, 1, 0, 1, 0], [1, 1, 0, 1, 0, 0], [1, 0, 0, 0, 0, 0]]\n"
     ]
    }
   ],
   "source": [
    "print(gr_dict_2_adj_mat(graph_dict))\n"
   ]
  },
  {
   "cell_type": "code",
   "execution_count": 6,
   "id": "3513eb31",
   "metadata": {},
   "outputs": [
    {
     "name": "stdout",
     "output_type": "stream",
     "text": [
      "[('A', 'B'), ('A', 'E'), ('A', 'F'), ('B', 'A'), ('B', 'C'), ('B', 'E'), ('C', 'B'), ('C', 'D'), ('D', 'C'), ('D', 'E'), ('E', 'A'), ('E', 'B'), ('E', 'D'), ('F', 'A')]\n"
     ]
    }
   ],
   "source": [
    "print(gr_dict_2_edge_list(graph_dict))\n"
   ]
  },
  {
   "cell_type": "code",
   "execution_count": 7,
   "id": "975404d8",
   "metadata": {},
   "outputs": [
    {
     "name": "stdout",
     "output_type": "stream",
     "text": [
      "{'A': ['B', 'E', 'F'], 'B': ['A', 'C', 'E'], 'C': ['B', 'D'], 'D': ['C', 'E'], 'E': ['A', 'B', 'D'], 'F': ['A']}\n"
     ]
    }
   ],
   "source": [
    "print(adj_mat_2_gr_dict(adjacency_matrix))\n"
   ]
  },
  {
   "cell_type": "code",
   "execution_count": 8,
   "id": "25d9de31",
   "metadata": {},
   "outputs": [
    {
     "name": "stdout",
     "output_type": "stream",
     "text": [
      "[('A', 'B'), ('A', 'E'), ('A', 'F'), ('B', 'A'), ('B', 'C'), ('B', 'E'), ('C', 'B'), ('C', 'D'), ('D', 'C'), ('D', 'E'), ('E', 'A'), ('E', 'B'), ('E', 'D'), ('F', 'A')]\n"
     ]
    }
   ],
   "source": [
    "print(adj_mat_2_edge_list(adjacency_matrix))\n"
   ]
  },
  {
   "cell_type": "code",
   "execution_count": 9,
   "id": "a4a0c4d2",
   "metadata": {},
   "outputs": [
    {
     "name": "stdout",
     "output_type": "stream",
     "text": [
      "{'A': ['B', 'E', 'F'], 'B': ['A', 'C', 'E'], 'C': ['B', 'D'], 'D': ['C', 'E'], 'E': ['A', 'B', 'D'], 'F': ['A']}\n"
     ]
    }
   ],
   "source": [
    "print(edge_list_2_gr_dict(edge_list))\n"
   ]
  },
  {
   "cell_type": "code",
   "execution_count": 10,
   "id": "e1422f77",
   "metadata": {},
   "outputs": [
    {
     "name": "stdout",
     "output_type": "stream",
     "text": [
      "[[0, 1, 1, 0, 0, 0], [1, 0, 0, 1, 0, 1], [1, 0, 0, 0, 0, 1], [0, 1, 0, 0, 1, 1], [0, 0, 0, 1, 0, 0], [0, 1, 1, 1, 0, 0]]\n"
     ]
    }
   ],
   "source": [
    "print(edge_list_2_adj_mat(edge_list))\n"
   ]
  },
  {
   "cell_type": "code",
   "execution_count": 11,
   "id": "89bcec72",
   "metadata": {},
   "outputs": [
    {
     "name": "stdout",
     "output_type": "stream",
     "text": [
      "False\n"
     ]
    }
   ],
   "source": [
    "# 3. Given a graph and two vertices, check if they are adjacent.\n",
    "\n",
    "\n",
    "def check_adjacent(graph_dict, node1, node2):\n",
    "    if node1 in graph_dict and node2 in graph_dict:\n",
    "        if node2 in graph_dict[node1] or node1 in graph_dict[node2]:\n",
    "            return True\n",
    "    return False\n",
    "\n",
    "\n",
    "print(check_adjacent(graph_dict, \"A\", \"C\"))\n"
   ]
  },
  {
   "cell_type": "code",
   "execution_count": 12,
   "id": "d23018ab",
   "metadata": {},
   "outputs": [
    {
     "name": "stdout",
     "output_type": "stream",
     "text": [
      "False\n"
     ]
    }
   ],
   "source": [
    "# 4. Check if a graph is complete.\n",
    "\n",
    "\n",
    "def check_complete(graph_dict):\n",
    "    nodes = list(graph_dict.keys())\n",
    "    for node in nodes:\n",
    "        if sorted(graph_dict[node]) != sorted([n for n in nodes if n != node]):\n",
    "            return False\n",
    "    return True\n",
    "\n",
    "\n",
    "print(check_complete(graph_dict))\n"
   ]
  },
  {
   "cell_type": "code",
   "execution_count": 13,
   "id": "1c2558a1",
   "metadata": {},
   "outputs": [
    {
     "name": "stdout",
     "output_type": "stream",
     "text": [
      "True\n"
     ]
    }
   ],
   "source": [
    "g_dict = {\n",
    "    \"s1\": [\"s2\", \"s3\", \"s4\", \"s5\", \"s6\"],\n",
    "    \"s2\": [\"s1\", \"s3\", \"s4\", \"s5\", \"s6\"],\n",
    "    \"s3\": [\"s2\", \"s1\", \"s4\", \"s5\", \"s6\"],\n",
    "    \"s4\": [\"s2\", \"s3\", \"s1\", \"s5\", \"s6\"],\n",
    "    \"s5\": [\"s2\", \"s3\", \"s4\", \"s1\", \"s6\"],\n",
    "    \"s6\": [\"s2\", \"s3\", \"s4\", \"s5\", \"s1\"],\n",
    "}\n",
    "print(check_complete(g_dict))\n"
   ]
  },
  {
   "cell_type": "code",
   "execution_count": 14,
   "id": "3f52e1bb",
   "metadata": {},
   "outputs": [
    {
     "name": "stdout",
     "output_type": "stream",
     "text": [
      "True\n"
     ]
    }
   ],
   "source": [
    "# 5. Check if a graph is connected.\n",
    "\n",
    "\n",
    "def check_connected(graph_dict):\n",
    "    if not graph_dict:\n",
    "        return True  # or False, depending on definition\n",
    "    nodes = list(graph_dict.keys())\n",
    "    visited = []\n",
    "    stack = [nodes[0]]\n",
    "    while stack:\n",
    "        node = stack.pop()\n",
    "        if node not in visited:\n",
    "            visited.append(node)\n",
    "            stack.extend(\n",
    "                [neighbor for neighbor in graph_dict[node] if neighbor not in visited]\n",
    "            )\n",
    "    return len(visited) == len(nodes)\n",
    "\n",
    "\n",
    "print(check_connected(graph_dict))\n"
   ]
  },
  {
   "cell_type": "code",
   "execution_count": 15,
   "id": "15569d3d",
   "metadata": {},
   "outputs": [
    {
     "name": "stdout",
     "output_type": "stream",
     "text": [
      "NOTA\n",
      "path\n",
      "path\n",
      "trail\n",
      "walk\n"
     ]
    }
   ],
   "source": [
    "# 6. Given a graph and a list of vertices, check if it forms a walk, or a trail or a path or none of these.\n",
    "\n",
    "\n",
    "def check_walk_trail_path(graph_dict, sequence):\n",
    "    n = len(sequence)\n",
    "    edges = []\n",
    "    for i in range(n - 1):\n",
    "        if sequence[i + 1] not in graph_dict[sequence[i]]:\n",
    "            return \"NOTA\"\n",
    "        edges.append((sequence[i], sequence[i + 1]))\n",
    "\n",
    "    is_unique_edges = len(edges) == len(set(edges))\n",
    "    is_unique_vertices = len(sequence) == len(set(sequence))\n",
    "    is_closed = sequence[0] == sequence[-1]\n",
    "\n",
    "    if is_unique_edges:\n",
    "        if is_unique_vertices:\n",
    "            return \"path\" if not is_closed else \"closed path\"\n",
    "        if len(sequence) == len(set(sequence)) + 1:\n",
    "            return \"trail\" if not is_closed else \"closed trail\"\n",
    "    return \"walk\"\n",
    "\n",
    "\n",
    "print(check_walk_trail_path(graph_dict, [\"A\", \"B\", \"F\"]))\n",
    "print(check_walk_trail_path(graph_dict, [\"A\", \"B\", \"C\"]))\n",
    "print(check_walk_trail_path(graph_dict, [\"A\", \"B\", \"E\", \"D\", \"C\"]))\n",
    "print(check_walk_trail_path(graph_dict, [\"A\", \"B\", \"E\", \"A\", \"F\"]))\n",
    "print(check_walk_trail_path(graph_dict, [\"B\", \"A\", \"E\", \"D\", \"C\", \"B\", \"A\", \"F\"]))\n"
   ]
  },
  {
   "cell_type": "markdown",
   "id": "b86577da",
   "metadata": {},
   "source": [
    "**Tree:**\n",
    "\n",
    "- A tree is a special type of graph that is hierarchical and acyclic (contains no cycles).\n",
    "- It consists of nodes connected by edges, with a designated root node.\n",
    "- Each node has zero or more child nodes, and each child node has exactly one parent node (except for the root node, which has no parent).\n",
    "- Trees are used to represent hierarchical relationships, such as organizational structures, file systems, and decision trees.\n",
    "- Types of trees include: binary trees, binary search trees, AVL trees, and B-trees.\n"
   ]
  },
  {
   "cell_type": "code",
   "execution_count": 16,
   "id": "aa253d45",
   "metadata": {},
   "outputs": [
    {
     "name": "stdout",
     "output_type": "stream",
     "text": [
      "False\n"
     ]
    }
   ],
   "source": [
    "# 7. Check if a given graph is a tree.\n",
    "\n",
    "\n",
    "def check_tree(graph_dict):\n",
    "    if not check_connected(graph_dict):\n",
    "        return False\n",
    "    nodes = list(graph_dict.keys())\n",
    "    for node in nodes:\n",
    "        if len(graph_dict[node]) > 1:\n",
    "            return False\n",
    "    return True\n",
    "\n",
    "\n",
    "print(check_tree(graph_dict))\n"
   ]
  },
  {
   "cell_type": "code",
   "execution_count": 17,
   "id": "a2eb7afd",
   "metadata": {},
   "outputs": [
    {
     "name": "stdout",
     "output_type": "stream",
     "text": [
      "Original Graph: {'A': ['B', 'C'], 'B': ['A', 'C', 'D'], 'C': ['A', 'B', 'E'], 'D': ['B', 'F'], 'E': ['C', 'F'], 'F': ['D', 'E']}\n",
      "Spanning Tree: {'A': ['B'], 'B': ['C'], 'C': ['E'], 'E': ['F'], 'F': ['D'], 'D': []}\n"
     ]
    }
   ],
   "source": [
    "# 8. Given a connected cyclic graph, find its spanning tree.\n",
    "\n",
    "import random\n",
    "\n",
    "\n",
    "def find_spanning_tree(graph_dict):\n",
    "\n",
    "    # Use Depth-First Search (DFS) to find a spanning tree\n",
    "\n",
    "    start_node = next(iter(graph_dict))  # Get an arbitrary start node\n",
    "    visited = set()\n",
    "    spanning_tree = {}\n",
    "\n",
    "    def dfs(node):\n",
    "        visited.add(node)\n",
    "        spanning_tree[node] = []\n",
    "        for neighbor in graph_dict[node]:\n",
    "            if neighbor not in visited:\n",
    "                spanning_tree[node].append(neighbor)\n",
    "                dfs(neighbor)\n",
    "\n",
    "    dfs(start_node)\n",
    "    return spanning_tree\n",
    "\n",
    "\n",
    "# Example Usage:\n",
    "# For demonstration, let's use a slightly different graph to ensure it's cyclic and connected\n",
    "\n",
    "cyclic_graph = {\n",
    "    \"A\": [\"B\", \"C\"],\n",
    "    \"B\": [\"A\", \"C\", \"D\"],\n",
    "    \"C\": [\"A\", \"B\", \"E\"],\n",
    "    \"D\": [\"B\", \"F\"],\n",
    "    \"E\": [\"C\", \"F\"],\n",
    "    \"F\": [\"D\", \"E\"],\n",
    "}\n",
    "\n",
    "\n",
    "spanning_tree = find_spanning_tree(cyclic_graph)\n",
    "\n",
    "print(\"Original Graph:\", cyclic_graph)\n",
    "\n",
    "print(\"Spanning Tree:\", spanning_tree)\n"
   ]
  },
  {
   "cell_type": "code",
   "execution_count": 18,
   "id": "196e08bf",
   "metadata": {},
   "outputs": [
    {
     "name": "stdout",
     "output_type": "stream",
     "text": [
      "Number of leaf nodes: 1\n"
     ]
    }
   ],
   "source": [
    "# 9. Given a tree, find the number of leaf nodes.\n",
    "\n",
    "\n",
    "def count_leaf_nodes(graph_dict):\n",
    "    count = 0\n",
    "    for node in graph_dict:\n",
    "        if not graph_dict[node]:\n",
    "            count += 1\n",
    "    return count\n",
    "\n",
    "# Example Usage (assuming spanning_tree from the previous example is available)\n",
    "\n",
    "num_leaf_nodes = count_leaf_nodes(spanning_tree)\n",
    "print(\"Number of leaf nodes:\", num_leaf_nodes)\n"
   ]
  },
  {
   "cell_type": "code",
   "execution_count": 19,
   "id": "81e496b6",
   "metadata": {},
   "outputs": [
    {
     "name": "stdout",
     "output_type": "stream",
     "text": [
      "Is the spanning tree a binary tree? True\n"
     ]
    }
   ],
   "source": [
    "#  10. Given a tree, check if it's a binary tree.\n",
    "\n",
    "\n",
    "def is_binary_tree(graph_dict):\n",
    "    for node in graph_dict:\n",
    "        if len(graph_dict[node]) > 2:\n",
    "            return False\n",
    "    return True\n",
    "\n",
    "\n",
    "# Example Usage (assuming spanning_tree from the previous example is available)\n",
    "\n",
    "binary_tree_check = is_binary_tree(spanning_tree)\n",
    "print(\"Is the spanning tree a binary tree?\", binary_tree_check)\n"
   ]
  },
  {
   "cell_type": "code",
   "execution_count": 20,
   "id": "8a22008d",
   "metadata": {},
   "outputs": [
    {
     "name": "stdout",
     "output_type": "stream",
     "text": [
      "Height of node A: 5\n"
     ]
    }
   ],
   "source": [
    "# 11. Given a tree and a node, find its height.\n",
    "\n",
    "\n",
    "def find_height(graph_dict, node):\n",
    "    if node not in graph_dict:\n",
    "        return -1  # Node not found\n",
    "    if not graph_dict[node]:\n",
    "        return 0  # Leaf node\n",
    "    heights = [find_height(graph_dict, child) for child in graph_dict[node]]\n",
    "    return 1 + max(heights) if heights else 0\n",
    "\n",
    "\n",
    "# Example Usage (assuming spanning_tree from the previous example is available)\n",
    "node_height = \"A\"  # Change this to the desired node\n",
    "height = find_height(spanning_tree, node_height)\n",
    "print(\n",
    "    f\"Height of node {node_height}:\", height\n",
    ")  # Output the height of the specified node\n"
   ]
  },
  {
   "cell_type": "code",
   "execution_count": 21,
   "id": "7820f389",
   "metadata": {},
   "outputs": [
    {
     "name": "stdout",
     "output_type": "stream",
     "text": [
      "Depth of node C: 2\n"
     ]
    }
   ],
   "source": [
    "# 12. Given a tree and a node, find its depth.\n",
    "\n",
    "\n",
    "def find_depth(graph_dict, node, current_node=None, depth=0):\n",
    "    if current_node is None:\n",
    "        current_node = next(iter(graph_dict))  # Start from the root node\n",
    "\n",
    "    if current_node == node:\n",
    "        return depth\n",
    "\n",
    "    for child in graph_dict[current_node]:\n",
    "        found_depth = find_depth(graph_dict, node, child, depth + 1)\n",
    "        if found_depth != -1:\n",
    "            return found_depth\n",
    "\n",
    "    return -1  # Node not found in this path\n",
    "\n",
    "\n",
    "# Example Usage (assuming spanning_tree from the previous example is available)\n",
    "node_depth = \"C\"  # Change this to the desired node\n",
    "depth = find_depth(spanning_tree, node_depth)\n",
    "print(f\"Depth of node {node_depth}:\", depth)  # Output the depth of the specified node\n"
   ]
  },
  {
   "cell_type": "code",
   "execution_count": null,
   "id": "b2eada41",
   "metadata": {},
   "outputs": [],
   "source": []
  }
 ],
 "metadata": {
  "kernelspec": {
   "display_name": "venv",
   "language": "python",
   "name": "python3"
  },
  "language_info": {
   "codemirror_mode": {
    "name": "ipython",
    "version": 3
   },
   "file_extension": ".py",
   "mimetype": "text/x-python",
   "name": "python",
   "nbconvert_exporter": "python",
   "pygments_lexer": "ipython3",
   "version": "3.13.3"
  }
 },
 "nbformat": 4,
 "nbformat_minor": 5
}
